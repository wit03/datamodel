{
  "cells": [
    {
      "cell_type": "markdown",
      "metadata": {
        "id": "EFmN8YzQs-zG"
      },
      "source": [
        "# Lab 3: Introducing Classification\n",
        "\n",
        "Objectives:\n",
        "- To gain hands-on experience classifying small dataset\n",
        "- To implement concepts related to Decision Tree classifier (i.e. Entropy, Information Gain), along with the Decision Tree algorithm"
      ]
    },
    {
      "cell_type": "code",
      "execution_count": 2,
      "metadata": {
        "colab": {
          "base_uri": "https://localhost:8080/",
          "height": 488
        },
        "id": "BhFhB6Glq41H",
        "outputId": "dffaedb3-352a-43f9-f856-17c5905e37d2"
      },
      "outputs": [
        {
          "data": {
            "text/html": [
              "<div>\n",
              "<style scoped>\n",
              "    .dataframe tbody tr th:only-of-type {\n",
              "        vertical-align: middle;\n",
              "    }\n",
              "\n",
              "    .dataframe tbody tr th {\n",
              "        vertical-align: top;\n",
              "    }\n",
              "\n",
              "    .dataframe thead th {\n",
              "        text-align: right;\n",
              "    }\n",
              "</style>\n",
              "<table border=\"1\" class=\"dataframe\">\n",
              "  <thead>\n",
              "    <tr style=\"text-align: right;\">\n",
              "      <th></th>\n",
              "      <th>age</th>\n",
              "      <th>income</th>\n",
              "      <th>student</th>\n",
              "      <th>credit rating</th>\n",
              "      <th>buys computer</th>\n",
              "    </tr>\n",
              "  </thead>\n",
              "  <tbody>\n",
              "    <tr>\n",
              "      <th>0</th>\n",
              "      <td>&lt;=30</td>\n",
              "      <td>high</td>\n",
              "      <td>no</td>\n",
              "      <td>fair</td>\n",
              "      <td>no</td>\n",
              "    </tr>\n",
              "    <tr>\n",
              "      <th>1</th>\n",
              "      <td>&lt;=30</td>\n",
              "      <td>high</td>\n",
              "      <td>no</td>\n",
              "      <td>excellent</td>\n",
              "      <td>no</td>\n",
              "    </tr>\n",
              "    <tr>\n",
              "      <th>2</th>\n",
              "      <td>31-40</td>\n",
              "      <td>high</td>\n",
              "      <td>no</td>\n",
              "      <td>fair</td>\n",
              "      <td>yes</td>\n",
              "    </tr>\n",
              "    <tr>\n",
              "      <th>3</th>\n",
              "      <td>&gt;40</td>\n",
              "      <td>medium</td>\n",
              "      <td>no</td>\n",
              "      <td>fair</td>\n",
              "      <td>yes</td>\n",
              "    </tr>\n",
              "    <tr>\n",
              "      <th>4</th>\n",
              "      <td>&gt;40</td>\n",
              "      <td>low</td>\n",
              "      <td>yes</td>\n",
              "      <td>fair</td>\n",
              "      <td>yes</td>\n",
              "    </tr>\n",
              "    <tr>\n",
              "      <th>5</th>\n",
              "      <td>&gt;40</td>\n",
              "      <td>low</td>\n",
              "      <td>yes</td>\n",
              "      <td>excellent</td>\n",
              "      <td>no</td>\n",
              "    </tr>\n",
              "    <tr>\n",
              "      <th>6</th>\n",
              "      <td>31-40</td>\n",
              "      <td>low</td>\n",
              "      <td>yes</td>\n",
              "      <td>excellent</td>\n",
              "      <td>yes</td>\n",
              "    </tr>\n",
              "    <tr>\n",
              "      <th>7</th>\n",
              "      <td>&lt;=30</td>\n",
              "      <td>medium</td>\n",
              "      <td>no</td>\n",
              "      <td>fair</td>\n",
              "      <td>no</td>\n",
              "    </tr>\n",
              "    <tr>\n",
              "      <th>8</th>\n",
              "      <td>&lt;=30</td>\n",
              "      <td>low</td>\n",
              "      <td>yes</td>\n",
              "      <td>fair</td>\n",
              "      <td>yes</td>\n",
              "    </tr>\n",
              "    <tr>\n",
              "      <th>9</th>\n",
              "      <td>&gt;40</td>\n",
              "      <td>medium</td>\n",
              "      <td>yes</td>\n",
              "      <td>fair</td>\n",
              "      <td>yes</td>\n",
              "    </tr>\n",
              "    <tr>\n",
              "      <th>10</th>\n",
              "      <td>&lt;=30</td>\n",
              "      <td>medium</td>\n",
              "      <td>yes</td>\n",
              "      <td>excellent</td>\n",
              "      <td>yes</td>\n",
              "    </tr>\n",
              "    <tr>\n",
              "      <th>11</th>\n",
              "      <td>31-40</td>\n",
              "      <td>medium</td>\n",
              "      <td>no</td>\n",
              "      <td>excellent</td>\n",
              "      <td>yes</td>\n",
              "    </tr>\n",
              "    <tr>\n",
              "      <th>12</th>\n",
              "      <td>31-40</td>\n",
              "      <td>high</td>\n",
              "      <td>yes</td>\n",
              "      <td>fair</td>\n",
              "      <td>yes</td>\n",
              "    </tr>\n",
              "    <tr>\n",
              "      <th>13</th>\n",
              "      <td>&gt;40</td>\n",
              "      <td>medium</td>\n",
              "      <td>no</td>\n",
              "      <td>excellent</td>\n",
              "      <td>no</td>\n",
              "    </tr>\n",
              "  </tbody>\n",
              "</table>\n",
              "</div>"
            ],
            "text/plain": [
              "      age  income student credit rating buys computer\n",
              "0    <=30    high      no          fair            no\n",
              "1    <=30    high      no     excellent            no\n",
              "2   31-40    high      no          fair           yes\n",
              "3     >40  medium      no          fair           yes\n",
              "4     >40     low     yes          fair           yes\n",
              "5     >40     low     yes     excellent            no\n",
              "6   31-40     low     yes     excellent           yes\n",
              "7    <=30  medium      no          fair            no\n",
              "8    <=30     low     yes          fair           yes\n",
              "9     >40  medium     yes          fair           yes\n",
              "10   <=30  medium     yes     excellent           yes\n",
              "11  31-40  medium      no     excellent           yes\n",
              "12  31-40    high     yes          fair           yes\n",
              "13    >40  medium      no     excellent            no"
            ]
          },
          "execution_count": 2,
          "metadata": {},
          "output_type": "execute_result"
        }
      ],
      "source": [
        "import pandas as pd\n",
        "import math\n",
        "\n",
        "# Read the data\n",
        "df = pd.read_csv('../store/toy_data.csv')\n",
        "df"
      ]
    },
    {
      "cell_type": "code",
      "execution_count": 3,
      "metadata": {
        "colab": {
          "base_uri": "https://localhost:8080/"
        },
        "id": "PsHwbe-eszwh",
        "outputId": "7ca3a5a0-96bc-4471-f199-fbecf1455051"
      },
      "outputs": [
        {
          "name": "stdout",
          "output_type": "stream",
          "text": [
            "<class 'pandas.core.frame.DataFrame'>\n",
            "RangeIndex: 14 entries, 0 to 13\n",
            "Data columns (total 5 columns):\n",
            " #   Column         Non-Null Count  Dtype \n",
            "---  ------         --------------  ----- \n",
            " 0   age            14 non-null     object\n",
            " 1   income         14 non-null     object\n",
            " 2   student        14 non-null     object\n",
            " 3   credit rating  14 non-null     object\n",
            " 4   buys computer  14 non-null     object\n",
            "dtypes: object(5)\n",
            "memory usage: 692.0+ bytes\n",
            "None\n"
          ]
        }
      ],
      "source": [
        "print(df.info())"
      ]
    },
    {
      "cell_type": "markdown",
      "metadata": {},
      "source": [
        "# Solution"
      ]
    },
    {
      "cell_type": "markdown",
      "metadata": {},
      "source": [
        "1. Find *Probability* of target variable (buys computer)"
      ]
    },
    {
      "cell_type": "code",
      "execution_count": 8,
      "metadata": {},
      "outputs": [
        {
          "name": "stdout",
          "output_type": "stream",
          "text": [
            "Yes:  9 No:  5\n"
          ]
        }
      ],
      "source": [
        "# Probability of target variable\n",
        "n = df.shape[0]\n",
        "p_yes = nStudent = df[df['buys computer'] == 'yes'].shape[0]\n",
        "p_no = n - p_yes\n",
        "\n",
        "print(\"Yes: \", p_yes, \"No: \", p_no)"
      ]
    },
    {
      "cell_type": "markdown",
      "metadata": {},
      "source": [
        "2. Find *Entropy* of target variable (buys computer)"
      ]
    },
    {
      "cell_type": "code",
      "execution_count": 16,
      "metadata": {},
      "outputs": [
        {
          "name": "stdout",
          "output_type": "stream",
          "text": [
            "Entropy of target variable (buys computer):  0.9402859586706311\n"
          ]
        }
      ],
      "source": [
        "entropy_t = - (p_yes/n) * math.log2(p_yes/n) - (p_no/n) * math.log2(p_no/n)\n",
        "print(\"Entropy of target variable (buys computer): \", entropy_t)"
      ]
    },
    {
      "cell_type": "markdown",
      "metadata": {},
      "source": [
        "### Question 0: What is Gain Split of age"
      ]
    },
    {
      "cell_type": "code",
      "execution_count": 10,
      "metadata": {},
      "outputs": [
        {
          "name": "stdout",
          "output_type": "stream",
          "text": [
            "Partitions:  {'<=30': 5, '>40': 5, '31-40': 4}\n",
            "Probability of each partition:  {'<=30': {'buy': 0.4, 'not_buy': 0.6}, '>40': {'buy': 0.6, 'not_buy': 0.4}, '31-40': {'buy': 1.0, 'not_buy': 0.0}}\n",
            "Sum of Entropy:  0.6935361388961918\n",
            "Gain Split:  0.24674981977443933\n"
          ]
        }
      ],
      "source": [
        "target_col = \"age\"\n",
        "\n",
        "partitions = df[target_col].value_counts().to_dict()\n",
        "bought_com_count = df[df['buys computer'] == 'yes'].groupby(target_col).size().to_dict()\n",
        "\n",
        "\n",
        "print(\"Partitions: \",partitions)\n",
        "\n",
        "#Find P(student|t) (array)\n",
        "probArr = {}\n",
        "for key in partitions:\n",
        "    probArr[key] = { \"buy\": bought_com_count[key]/partitions[key], \"not_buy\": 1 - (bought_com_count[key]/partitions[key])}\n",
        "\n",
        "print(\"Probability of each partition: \",probArr)\n",
        "\n",
        "#Find entropy of student\n",
        "ent = {}\n",
        "\n",
        "for key in probArr:\n",
        "    p_buy = probArr[key][\"buy\"]\n",
        "    p_not_buy = probArr[key][\"not_buy\"]\n",
        "    \n",
        "    # Calculate entropy\n",
        "    ent_buy = -p_buy * math.log2(p_buy) if p_buy > 0 else 0\n",
        "    ent_not_buy = -p_not_buy * math.log2(p_not_buy) if p_not_buy > 0 else 0\n",
        "    ent[key] = (partitions[key]/n) * (ent_buy + ent_not_buy)\n",
        "\n",
        "sumEnt = sum(ent.values())\n",
        "\n",
        "print(\"Sum of Entropy: \",sumEnt)\n",
        "print(\"Entropy of target variable: \", entropy_t)\n",
        "print(\"Gain Split: \", entropy_t - sumEnt)\n"
      ]
    },
    {
      "cell_type": "markdown",
      "metadata": {},
      "source": [
        "### Question 1: What is Gain Split of income"
      ]
    },
    {
      "cell_type": "code",
      "execution_count": 12,
      "metadata": {},
      "outputs": [
        {
          "name": "stdout",
          "output_type": "stream",
          "text": [
            "Partitions:  {'medium': 6, 'high': 4, 'low': 4}\n",
            "Probability of each partition:  {'medium': {'buy': 0.6666666666666666, 'not_buy': 0.33333333333333337}, 'high': {'buy': 0.5, 'not_buy': 0.5}, 'low': {'buy': 0.75, 'not_buy': 0.25}}\n",
            "Sum of Entropy:  0.9110633930116763\n",
            "Entropy of target variable:  0.9402859586706311\n",
            "Gain Split:  0.02922256565895487\n"
          ]
        }
      ],
      "source": [
        "target_col = \"income\"\n",
        "\n",
        "partitions = df[target_col].value_counts().to_dict()\n",
        "bought_com_count = df[df['buys computer'] == 'yes'].groupby(target_col).size().to_dict()\n",
        "\n",
        "\n",
        "print(\"Partitions: \",partitions)\n",
        "\n",
        "#Find P(student|t) (array)\n",
        "probArr = {}\n",
        "for key in partitions:\n",
        "    probArr[key] = { \"buy\": bought_com_count[key]/partitions[key], \"not_buy\": 1 - (bought_com_count[key]/partitions[key])}\n",
        "\n",
        "print(\"Probability of each partition: \",probArr)\n",
        "\n",
        "#Find entropy of student\n",
        "ent = {}\n",
        "\n",
        "for key in probArr:\n",
        "    p_buy = probArr[key][\"buy\"]\n",
        "    p_not_buy = probArr[key][\"not_buy\"]\n",
        "    \n",
        "    # Calculate entropy\n",
        "    ent_buy = -p_buy * math.log2(p_buy) if p_buy > 0 else 0\n",
        "    ent_not_buy = -p_not_buy * math.log2(p_not_buy) if p_not_buy > 0 else 0\n",
        "    ent[key] = (partitions[key]/n) * (ent_buy + ent_not_buy)\n",
        "\n",
        "sumEnt = sum(ent.values())\n",
        "\n",
        "print(\"Sum of Entropy: \",sumEnt)\n",
        "print(\"Entropy of target variable: \", entropy_t)\n",
        "print(\"Gain Split: \", entropy_t - sumEnt)\n"
      ]
    },
    {
      "cell_type": "markdown",
      "metadata": {},
      "source": [
        "### Question 2: What is Gain Split of Student"
      ]
    },
    {
      "cell_type": "code",
      "execution_count": 13,
      "metadata": {},
      "outputs": [
        {
          "name": "stdout",
          "output_type": "stream",
          "text": [
            "Partitions:  {'no': 7, 'yes': 7}\n",
            "Probability of each partition:  {'no': {'buy': 0.42857142857142855, 'not_buy': 0.5714285714285714}, 'yes': {'buy': 0.8571428571428571, 'not_buy': 0.1428571428571429}}\n",
            "Sum of Entropy:  0.7884504573082896\n",
            "Entropy of target variable:  0.9402859586706311\n",
            "Gain Split:  0.15183550136234159\n"
          ]
        }
      ],
      "source": [
        "\n",
        "target_col = \"student\"\n",
        "\n",
        "partitions = df[target_col].value_counts().to_dict()\n",
        "bought_com_count = df[df['buys computer'] == 'yes'].groupby(target_col).size().to_dict()\n",
        "\n",
        "\n",
        "print(\"Partitions: \",partitions)\n",
        "\n",
        "#Find P(student|t) (array)\n",
        "probArr = {}\n",
        "for key in partitions:\n",
        "    probArr[key] = { \"buy\": bought_com_count[key]/partitions[key], \"not_buy\": 1 - (bought_com_count[key]/partitions[key])}\n",
        "\n",
        "print(\"Probability of each partition: \",probArr)\n",
        "\n",
        "#Find entropy of student\n",
        "ent = {}\n",
        "\n",
        "for key in probArr:\n",
        "    p_buy = probArr[key][\"buy\"]\n",
        "    p_not_buy = probArr[key][\"not_buy\"]\n",
        "    \n",
        "    # Calculate entropy\n",
        "    ent_buy = -p_buy * math.log2(p_buy) if p_buy > 0 else 0\n",
        "    ent_not_buy = -p_not_buy * math.log2(p_not_buy) if p_not_buy > 0 else 0\n",
        "    ent[key] = (partitions[key]/n) * (ent_buy + ent_not_buy)\n",
        "\n",
        "sumEnt = sum(ent.values())\n",
        "\n",
        "print(\"Sum of Entropy: \",sumEnt)\n",
        "print(\"Entropy of target variable: \", entropy_t)\n",
        "print(\"Gain Split: \", entropy_t - sumEnt)\n"
      ]
    },
    {
      "cell_type": "markdown",
      "metadata": {},
      "source": [
        "### Question 3: What is Gain Split of credit rating"
      ]
    },
    {
      "cell_type": "code",
      "execution_count": 15,
      "metadata": {},
      "outputs": [
        {
          "name": "stdout",
          "output_type": "stream",
          "text": [
            "Partitions:  {'fair': 8, 'excellent': 6}\n",
            "Probability of each partition:  {'fair': {'buy': 0.75, 'not_buy': 0.25}, 'excellent': {'buy': 0.5, 'not_buy': 0.5}}\n",
            "Sum of Entropy:  0.8921589282623617\n",
            "Entropy of target variable:  0.9402859586706311\n",
            "Gain Split:  0.04812703040826949\n"
          ]
        }
      ],
      "source": [
        "target_col = \"credit rating\"\n",
        "\n",
        "partitions = df[target_col].value_counts().to_dict()\n",
        "bought_com_count = df[df['buys computer'] == 'yes'].groupby(target_col).size().to_dict()\n",
        "\n",
        "\n",
        "print(\"Partitions: \",partitions)\n",
        "\n",
        "#Find P(student|t) (array)\n",
        "probArr = {}\n",
        "for key in partitions:\n",
        "    probArr[key] = { \"buy\": bought_com_count[key]/partitions[key], \"not_buy\": 1 - (bought_com_count[key]/partitions[key])}\n",
        "\n",
        "print(\"Probability of each partition: \",probArr)\n",
        "\n",
        "#Find entropy of student\n",
        "ent = {}\n",
        "\n",
        "for key in probArr:\n",
        "    p_buy = probArr[key][\"buy\"]\n",
        "    p_not_buy = probArr[key][\"not_buy\"]\n",
        "    \n",
        "    # Calculate entropy\n",
        "    ent_buy = -p_buy * math.log2(p_buy) if p_buy > 0 else 0\n",
        "    ent_not_buy = -p_not_buy * math.log2(p_not_buy) if p_not_buy > 0 else 0\n",
        "    ent[key] = (partitions[key]/n) * (ent_buy + ent_not_buy)\n",
        "\n",
        "sumEnt = sum(ent.values())\n",
        "\n",
        "print(\"Sum of Entropy: \",sumEnt)\n",
        "print(\"Entropy of target variable: \", entropy_t)\n",
        "print(\"Gain Split: \", entropy_t - sumEnt)"
      ]
    },
    {
      "cell_type": "code",
      "execution_count": 21,
      "metadata": {},
      "outputs": [
        {
          "name": "stdout",
          "output_type": "stream",
          "text": [
            "    age  income  student  credit rating  buys computer\n",
            "0     0       2        0              1              0\n",
            "1     0       2        0              0              0\n",
            "2     1       2        0              1              1\n",
            "3     2       1        0              1              1\n",
            "4     2       0        1              1              1\n",
            "5     2       0        1              0              0\n",
            "6     1       0        1              0              1\n",
            "7     0       1        0              1              0\n",
            "8     0       0        1              1              1\n",
            "9     2       1        1              1              1\n",
            "10    0       1        1              0              1\n",
            "11    1       1        0              0              1\n",
            "12    1       2        1              1              1\n",
            "13    2       1        0              0              0\n",
            "\n",
            "Predictions:\n",
            "['buy', 'buy', 'buy', 'buy', 'not buy']\n"
          ]
        }
      ],
      "source": [
        "# Decision Tree\n",
        "from collections import Counter\n",
        "\n",
        "def entropy(y):\n",
        "    hist = np.bincount(y)\n",
        "    ps = hist / len(y)\n",
        "    return -np.sum([p * np.log2(p) for p in ps if p > 0])\n",
        "\n",
        "class Node:\n",
        "    def __init__(\n",
        "        self, feature=None, threshold=None, left=None, right=None, *, value=None\n",
        "    ):\n",
        "        self.feature = feature\n",
        "        self.threshold = threshold\n",
        "        self.left = left\n",
        "        self.right = right\n",
        "        self.value = value\n",
        "\n",
        "    def is_leaf_node(self):\n",
        "        return self.value is not None\n",
        "\n",
        "class DecisionTree:\n",
        "    def __init__(self, min_samples_split=2, max_depth=100, n_feats=None):\n",
        "        self.min_samples_split = min_samples_split\n",
        "        self.max_depth = max_depth\n",
        "        self.n_feats = n_feats\n",
        "        self.root = None\n",
        "\n",
        "    def fit(self, X, y):\n",
        "        self.n_feats = X.shape[1] if not self.n_feats else min(self.n_feats, X.shape[1])\n",
        "        self.root = self._grow_tree(X, y)\n",
        "\n",
        "    def predict(self, X):\n",
        "        return np.array([self._traverse_tree(x, self.root) for x in X])\n",
        "\n",
        "    def _grow_tree(self, X, y, depth=0):\n",
        "        n_samples, n_features = X.shape\n",
        "        n_labels = len(np.unique(y))\n",
        "\n",
        "        if (\n",
        "            depth >= self.max_depth\n",
        "            or n_labels == 1\n",
        "            or n_samples < self.min_samples_split\n",
        "        ):\n",
        "            leaf_value = self._most_common_label(y)\n",
        "            return Node(value=leaf_value)\n",
        "\n",
        "        feat_idxs = np.random.choice(n_features, self.n_feats, replace=False)\n",
        "\n",
        "        best_feat, best_thresh = self._best_criteria(X, y, feat_idxs)\n",
        "\n",
        "        left_idxs, right_idxs = self._split(X[:, best_feat], best_thresh)\n",
        "        left = self._grow_tree(X[left_idxs, :], y[left_idxs], depth + 1)\n",
        "        right = self._grow_tree(X[right_idxs, :], y[right_idxs], depth + 1)\n",
        "        return Node(best_feat, best_thresh, left, right)\n",
        "\n",
        "    def _best_criteria(self, X, y, feat_idxs):\n",
        "        best_gain = -1\n",
        "        split_idx, split_thresh = None, None\n",
        "        for feat_idx in feat_idxs:\n",
        "            X_column = X[:, feat_idx]\n",
        "            thresholds = np.unique(X_column)\n",
        "            for threshold in thresholds:\n",
        "                gain = self._information_gain(y, X_column, threshold)\n",
        "                if gain > best_gain:\n",
        "                    best_gain = gain\n",
        "                    split_idx = feat_idx\n",
        "                    split_thresh = threshold\n",
        "        return split_idx, split_thresh\n",
        "\n",
        "    def _information_gain(self, y, X_column, split_thresh):\n",
        "        parent_entropy = entropy(y)\n",
        "        left_idxs, right_idxs = self._split(X_column, split_thresh)\n",
        "        if len(left_idxs) == 0 or len(right_idxs) == 0:\n",
        "            return 0\n",
        "        \n",
        "        n = len(y)\n",
        "        n_l, n_r = len(left_idxs), len(right_idxs)\n",
        "        e_l, e_r = entropy(y[left_idxs]), entropy(y[right_idxs])\n",
        "        child_entropy = (n_l / n) * e_l + (n_r / n) * e_r\n",
        "        ig = parent_entropy - child_entropy\n",
        "        return ig\n",
        "\n",
        "    def _split(self, X_column, split_thresh):\n",
        "        left_idxs = np.argwhere(X_column <= split_thresh).flatten()\n",
        "        right_idxs = np.argwhere(X_column > split_thresh).flatten()\n",
        "        return left_idxs, right_idxs\n",
        "\n",
        "    def _traverse_tree(self, x, node):\n",
        "        if node.is_leaf_node():\n",
        "            return node.value\n",
        "\n",
        "        if x[node.feature] <= node.threshold:\n",
        "            return self._traverse_tree(x, node.left)\n",
        "        return self._traverse_tree(x, node.right)\n",
        "\n",
        "    def _most_common_label(self, y):\n",
        "        counter = Counter(y)\n",
        "        most_common = counter.most_common(1)[0][0]\n",
        "        return most_common\n",
        "    \n",
        "mapping_buys_computer = {'yes': 1, 'no': 0}\n",
        "mapping_income = {'high': 2, 'medium': 1, 'low': 0}\n",
        "mapping_credit_rating = {'fair': 1, 'excellent': 0}\n",
        "mapping_age = {'<=30': 0, '31-40': 1, '>40': 2}\n",
        "\n",
        "df['buys computer'] = df['buys computer'].map(mapping_buys_computer)\n",
        "df['income'] = df['income'].map(mapping_income)\n",
        "df['credit rating'] = df['credit rating'].map(mapping_credit_rating)\n",
        "df['age'] = df['age'].map(mapping_age)\n",
        "df['student'] = df['student'].map(mapping_buys_computer)\n",
        "print(df)\n",
        "print()\n",
        "\n",
        "X_train = df.drop('buys computer', axis=1).values\n",
        "y_train = df['buys computer'].values\n",
        "\n",
        "\n",
        "tree = DecisionTree(min_samples_split=2, max_depth=4, n_feats=None)\n",
        "tree.fit(X_train, y_train)\n",
        "\n",
        "\n",
        "X_test = np.array([\n",
        "    [0, 1, 1, 1], \n",
        "    [1, 0, 0, 0],\n",
        "    [2, 0, 0, 1], \n",
        "    [0, 0, 1, 0],\n",
        "    [0, 1, 0, 1]\n",
        "])\n",
        "\n",
        "\n",
        "predictions = tree.predict(X_test)\n",
        "prediction_list = []\n",
        "\n",
        "print(\"Predictions:\")\n",
        "for i in predictions:\n",
        "    if i == 1:\n",
        "        prediction_list.append('buy')\n",
        "    else:\n",
        "        prediction_list.append('not buy')\n",
        "print(prediction_list)\n"
      ]
    }
  ],
  "metadata": {
    "colab": {
      "provenance": []
    },
    "kernelspec": {
      "display_name": "Python 3",
      "name": "python3"
    },
    "language_info": {
      "codemirror_mode": {
        "name": "ipython",
        "version": 3
      },
      "file_extension": ".py",
      "mimetype": "text/x-python",
      "name": "python",
      "nbconvert_exporter": "python",
      "pygments_lexer": "ipython3",
      "version": "3.11.7"
    }
  },
  "nbformat": 4,
  "nbformat_minor": 0
}
